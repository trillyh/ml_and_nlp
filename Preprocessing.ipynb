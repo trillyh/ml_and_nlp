{
 "cells": [
  {
   "cell_type": "code",
   "execution_count": 1,
   "id": "e8d28767-5819-4eea-8b13-bcd75103dd84",
   "metadata": {},
   "outputs": [],
   "source": [
    "import nltk\n",
    "from nltk.corpus import twitter_samples # import Twitter dataset from NLTK\n",
    "import matplotlib.pyplot as plt\n",
    "import random"
   ]
  },
  {
   "cell_type": "raw",
   "id": "00155dcd-10ea-4fff-a04e-e2bf0e31e37c",
   "metadata": {},
   "source": [
    "nltk.download('twitter_samples')\n",
    "# download the stopwords from NLTK\n",
    "nltk.download('stopwords')"
   ]
  },
  {
   "cell_type": "code",
   "execution_count": null,
   "id": "9c15d111-7a99-4504-8383-e5bb93d5a704",
   "metadata": {},
   "outputs": [],
   "source": []
  },
  {
   "cell_type": "code",
   "execution_count": 3,
   "id": "11a3a143-e317-4d7c-8177-0e8b95d464f6",
   "metadata": {},
   "outputs": [],
   "source": [
    "# select the set of positive and negative tweets\n",
    "\"\"\"\n",
    "Return set of strings from specified json files\n",
    "\"\"\"\n",
    "all_positive_tweets = twitter_samples.strings('positive_tweets.json')\n",
    "all_negative_tweets = twitter_samples.strings('negative_tweets.json')"
   ]
  },
  {
   "cell_type": "code",
   "execution_count": 4,
   "id": "8202c074-b686-4791-a7b9-0fd1f7742fa1",
   "metadata": {},
   "outputs": [
    {
     "name": "stdout",
     "output_type": "stream",
     "text": [
      "#Pos: 5000\n",
      "#Neg: 5000\n",
      "Type of all Pos tweet: <class 'list'>\n",
      "Type of a tweet entry: <class 'str'>\n"
     ]
    }
   ],
   "source": [
    "print(f\"#Pos: {len(all_positive_tweets)}\")\n",
    "print(f\"#Neg: {len(all_negative_tweets)}\")\n",
    "\n",
    "\"\"\"\n",
    "Getting type of tweets\n",
    "\"\"\"\n",
    "\n",
    "print(f\"Type of all Pos tweet: {type(all_positive_tweets)}\")\n",
    "print(f\"Type of a tweet entry: {type(all_positive_tweets[0])}\")"
   ]
  },
  {
   "cell_type": "code",
   "execution_count": 9,
   "id": "959d86d7-4488-4efe-94c6-d7fe9da03f76",
   "metadata": {},
   "outputs": [
    {
     "data": {
      "image/png": "[encoded data removed]",
      "text/plain": [
       "<Figure size 500x500 with 1 Axes>"
      ]
     },
     "metadata": {},
     "output_type": "display_data"
    }
   ],
   "source": [
    "\"\"\"\n",
    "Visualization\n",
    "\"\"\"\n",
    "# Declare figure with custom size\n",
    "fig = plt.figure(figsize=(5,5))\n",
    "\n",
    "# Labels for the two classes\n",
    "labels = 'Positives', 'Negative'\n",
    "\n",
    "# Size for each slide\n",
    "sizes = [len(all_positive_tweets), len(all_negative_tweets)]\n",
    "\n",
    "# Declare pie chart, where slices will be ordered and plotted counter-clockwise:\n",
    "plt.pie(sizes, labels=labels, autopct=\"%1.1f%%\", shadow=True, startangle=90)\n",
    "\n",
    "# Equal aspect ratio ensures that pie is drawn as a circle\n",
    "plt.axis('equal')\n",
    "\n",
    "plt.show()"
   ]
  },
  {
   "cell_type": "code",
   "execution_count": 10,
   "id": "c8764987-9772-4a40-a949-354b9fc75c9a",
   "metadata": {},
   "outputs": [
    {
     "name": "stdout",
     "output_type": "stream",
     "text": [
      "\u001b[92mFeel free to share with others.  :-) http://t.co/c2W7znBQ0P\n",
      "\u001b[91m@milesSI ruins the game for me. You'll notice many stop playing the game when there are many regens. They don't look realistic :( shame\n"
     ]
    }
   ],
   "source": [
    "\"\"\"\n",
    "Print positive and negative tweets in random\n",
    "\"\"\"\n",
    "\n",
    "print(\"\\033[92m\" + all_positive_tweets[random.randint(0,5000)]) \n",
    "print(\"\\033[91m\" + all_negative_tweets[random.randint(0,5000)])"
   ]
  },
  {
   "cell_type": "code",
   "execution_count": 11,
   "id": "30b7af78-edea-41d6-86b2-3ad5b3b6219b",
   "metadata": {},
   "outputs": [],
   "source": [
    "\"\"\" \n",
    "Preprocessing\n",
    "\n",
    "Import library\n",
    "\"\"\"\n",
    "\n",
    "import re                                  # library for regular expression operations\n",
    "import string                              # for string operations\n",
    "\n",
    "from nltk.corpus import stopwords          # module for stop words that come with NLTK\n",
    "from nltk.stem import PorterStemmer        # module for stemming\n",
    "from nltk.tokenize import TweetTokenizer   # module for tokenizing strings"
   ]
  },
  {
   "cell_type": "code",
   "execution_count": 14,
   "id": "5f61068f-8f87-41a6-b8ce-a59dbc8438ec",
   "metadata": {},
   "outputs": [
    {
     "name": "stdout",
     "output_type": "stream",
     "text": [
      "Starting tweet: \u001b[92mMy beautiful sunflowers on a sunny Friday morning off :) #sunflowers #favourites #happy #Friday off… https://t.co/3tfYom0N1i\n",
      "Processed tweet: My beautiful sunflowers on a sunny Friday morning off :) #sunflowers #favourites #happy #Friday off… https://t.co/3tfYom0N1i\n",
      "My beautiful sunflowers on a sunny Friday morning off :) sunflowers favourites happy Friday off… \n"
     ]
    },
    {
     "name": "stderr",
     "output_type": "stream",
     "text": [
      "<>:4: SyntaxWarning: invalid escape sequence '\\)'\n",
      "<>:4: SyntaxWarning: invalid escape sequence '\\)'\n",
      "/var/folders/10/kr93j22n23b066k5g5w2lp6r0000gn/T/ipykernel_4111/527345908.py:4: SyntaxWarning: invalid escape sequence '\\)'\n",
      "  \"\"\"\n"
     ]
    }
   ],
   "source": [
    "\n",
    "tweet = all_positive_tweets[2277]\n",
    "print(f\"Starting tweet: \" + '\\033[92m' + tweet)\n",
    "\n",
    "\"\"\"\n",
    "Using regular expression to preprocess\n",
    "\n",
    "re.sub(pattern, replacement, string(orginal), count=0, flags=0)\n",
    "\n",
    "r'':\n",
    "A raw string literal in Python is created by prefixing the string with an r or R. \n",
    "This tells Python not to handle backslashes (\\) as escape characters. \n",
    "\"\"\"\n",
    "\n",
    "# Using regular expression to preprocess the tweet\n",
    "# Remove the \"RT\" marker from the beginning of the tweet if it exists\n",
    "tweet2 = re.sub(r'^RT[\\s]+', '', tweet)\n",
    "print(f\"Processed tweet: \" + tweet2)\n",
    "\n",
    "# remove hyperlinks\n",
    "    tweet2 = re.sub(r'https?://[^\\s\\n\\r]+', '', tweet2)\n",
    "\n",
    "# remove hashtags\n",
    "# only removing the hash # sign from the word\n",
    "tweet2 = re.sub(r'#', '', tweet2)\n",
    "\n",
    "print(tweet2)\n"
   ]
  },
  {
   "cell_type": "code",
   "execution_count": 17,
   "id": "986aea8d-73f1-49fe-bef8-e6131ec2875e",
   "metadata": {},
   "outputs": [
    {
     "name": "stdout",
     "output_type": "stream",
     "text": [
      "Tokenized string:\n",
      "['my', 'beautiful', 'sunflowers', 'on', 'a', 'sunny', 'friday', 'morning', 'off', ':)', 'sunflowers', 'favourites', 'happy', 'friday', 'off', '…']\n"
     ]
    }
   ],
   "source": [
    "#preserve_case: Whether to keep lowercase or uppercase as is or not.\n",
    "#strip_handles: Whether to remove Twitter handles username start with the @ symbol.\n",
    "#reduce_len: Convert elongated word such as gooddddd to good\n",
    "\n",
    "tokenizer = TweetTokenizer(preserve_case=False, strip_handles=True, reduce_len=True)\n",
    "tweet_tokens = tokenizer.tokenize(tweet2)\n",
    "print('Tokenized string:')\n",
    "print(tweet_tokens)"
   ]
  },
  {
   "cell_type": "code",
   "execution_count": 22,
   "id": "397f7bf5-acb5-4a9f-98c8-d334d13e7e73",
   "metadata": {},
   "outputs": [
    {
     "name": "stdout",
     "output_type": "stream",
     "text": [
      "['i', 'me', 'my', 'myself', 'we', 'our', 'ours', 'ourselves', 'you', \"you're\", \"you've\", \"you'll\", \"you'd\", 'your', 'yours', 'yourself', 'yourselves', 'he', 'him', 'his', 'himself', 'she', \"she's\", 'her', 'hers', 'herself', 'it', \"it's\", 'its', 'itself', 'they', 'them', 'their', 'theirs', 'themselves', 'what', 'which', 'who', 'whom', 'this', 'that', \"that'll\", 'these', 'those', 'am', 'is', 'are', 'was', 'were', 'be', 'been', 'being', 'have', 'has', 'had', 'having', 'do', 'does', 'did', 'doing', 'a', 'an', 'the', 'and', 'but', 'if', 'or', 'because', 'as', 'until', 'while', 'of', 'at', 'by', 'for', 'with', 'about', 'against', 'between', 'into', 'through', 'during', 'before', 'after', 'above', 'below', 'to', 'from', 'up', 'down', 'in', 'out', 'on', 'off', 'over', 'under', 'again', 'further', 'then', 'once', 'here', 'there', 'when', 'where', 'why', 'how', 'all', 'any', 'both', 'each', 'few', 'more', 'most', 'other', 'some', 'such', 'no', 'nor', 'not', 'only', 'own', 'same', 'so', 'than', 'too', 'very', 's', 't', 'can', 'will', 'just', 'don', \"don't\", 'should', \"should've\", 'now', 'd', 'll', 'm', 'o', 're', 've', 'y', 'ain', 'aren', \"aren't\", 'couldn', \"couldn't\", 'didn', \"didn't\", 'doesn', \"doesn't\", 'hadn', \"hadn't\", 'hasn', \"hasn't\", 'haven', \"haven't\", 'isn', \"isn't\", 'ma', 'mightn', \"mightn't\", 'mustn', \"mustn't\", 'needn', \"needn't\", 'shan', \"shan't\", 'shouldn', \"shouldn't\", 'wasn', \"wasn't\", 'weren', \"weren't\", 'won', \"won't\", 'wouldn', \"wouldn't\"]\n",
      "!\"#$%&'()*+,-./:;<=>?@[\\]^_`{|}~\n"
     ]
    }
   ],
   "source": [
    "#Import the english stop words list from NLTK\n",
    "stopwords_english = stopwords.words('english')\n",
    "print(stopwords_english)\n",
    "print(string.punctuation)"
   ]
  },
  {
   "cell_type": "code",
   "execution_count": 26,
   "id": "b698a338-1790-4089-9567-3cbd20cb8c32",
   "metadata": {},
   "outputs": [
    {
     "name": "stdout",
     "output_type": "stream",
     "text": [
      "['my', 'beautiful', 'sunflowers', 'on', 'a', 'sunny', 'friday', 'morning', 'off', ':)', 'sunflowers', 'favourites', 'happy', 'friday', 'off', '…']\n",
      "Clean tweets ready to use: \n",
      "\n",
      "['beautiful', 'sunflowers', 'sunny', 'friday', 'morning', ':)', 'sunflowers', 'favourites', 'happy', 'friday', '…']\n"
     ]
    }
   ],
   "source": [
    "print(tweet_tokens)\n",
    "\n",
    "tweets_clean = []\n",
    "\n",
    "for word in tweet_tokens:\n",
    "    if (word not in stopwords_english and\n",
    "        word not in string.punctuation):\n",
    "        tweets_clean.append(word)\n",
    "\n",
    "print(\"Clean tweets ready to use: \\n\")\n",
    "print(tweets_clean)\n",
    "        "
   ]
  },
  {
   "cell_type": "code",
   "execution_count": 27,
   "id": "dba37125-4813-4c6d-9775-6d7b12e499ac",
   "metadata": {},
   "outputs": [
    {
     "name": "stdout",
     "output_type": "stream",
     "text": [
      "['beauti', 'sunflow', 'sunni', 'friday', 'morn', ':)', 'sunflow', 'favourit', 'happi', 'friday', '…']\n"
     ]
    }
   ],
   "source": [
    "### Now let use stemming\n",
    "\n",
    "# Instantiate stemming class\n",
    "stemmer = PorterStemmer()\n",
    "\n",
    "# Create an empty list to store the stems \n",
    "tweets_stem = [] \n",
    "\n",
    "for word in tweets_clean:\n",
    "    stem_word = stemmer.stem(word)\n",
    "    tweets_stem.append(stem_word)\n",
    "print(tweets_stem)"
   ]
  }
 ],
 "metadata": {
  "kernelspec": {
   "display_name": "Python 3 (ipykernel)",
   "language": "python",
   "name": "python3"
  },
  "language_info": {
   "codemirror_mode": {
    "name": "ipython",
    "version": 3
   },
   "file_extension": ".py",
   "mimetype": "text/x-python",
   "name": "python",
   "nbconvert_exporter": "python",
   "pygments_lexer": "ipython3",
   "version": "3.12.4"
  }
 },
 "nbformat": 4,
 "nbformat_minor": 5
}
